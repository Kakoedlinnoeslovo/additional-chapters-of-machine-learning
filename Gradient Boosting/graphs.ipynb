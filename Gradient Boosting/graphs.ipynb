{
 "cells": [
  {
   "cell_type": "code",
   "execution_count": 1,
   "metadata": {
    "scrolled": true
   },
   "outputs": [],
   "source": [
    "from utils import data_to_numpy\n",
    "from utils import plot_graphs\n",
    "from Gradient_Boosting import Gradient_Boosting\n",
    "\n",
    "from sklearn.metrics import mean_squared_error as MSE\n",
    "from sklearn.ensemble import GradientBoostingRegressor"
   ]
  },
  {
   "cell_type": "code",
   "execution_count": 2,
   "metadata": {},
   "outputs": [],
   "source": [
    "X_train, y_train, X_test, y_test = data_to_numpy()"
   ]
  },
  {
   "cell_type": "code",
   "execution_count": 3,
   "metadata": {},
   "outputs": [
    {
     "data": {
      "text/plain": [
       "(7200, 245)"
      ]
     },
     "execution_count": 3,
     "metadata": {},
     "output_type": "execute_result"
    }
   ],
   "source": [
    "X_train.shape"
   ]
  },
  {
   "cell_type": "code",
   "execution_count": 4,
   "metadata": {
    "scrolled": true
   },
   "outputs": [
    {
     "data": {
      "text/plain": [
       "(10050, 245)"
      ]
     },
     "execution_count": 4,
     "metadata": {},
     "output_type": "execute_result"
    }
   ],
   "source": [
    "X_test.shape"
   ]
  },
  {
   "cell_type": "markdown",
   "metadata": {},
   "source": [
    "# MSE on train/test"
   ]
  },
  {
   "cell_type": "code",
   "execution_count": null,
   "metadata": {},
   "outputs": [
    {
     "name": "stdout",
     "output_type": "stream",
     "text": [
      "(7200, 245) (7200,)\n"
     ]
    },
    {
     "name": "stderr",
     "output_type": "stream",
     "text": [
      "Learning estimator number: 9/10; MSE error on train dataset: 0.542885613788; learning rate: 0.09910000000000001"
     ]
    },
    {
     "name": "stdout",
     "output_type": "stream",
     "text": [
      "\n",
      " my MSE on train: 0.5427\n",
      "\n",
      " my MSE on test: 0.7860\n",
      "sklearn MSE on train: 0.6291\n",
      "\n",
      " sklearn MSE on test: 0.8130\n"
     ]
    },
    {
     "name": "stderr",
     "output_type": "stream",
     "text": [
      "Learning estimator number: 19/20; MSE error on train dataset: 0.45176356267; learning rate: 0.099905000000000001"
     ]
    },
    {
     "name": "stdout",
     "output_type": "stream",
     "text": [
      "\n",
      " my MSE on train: 0.4514\n",
      "\n",
      " my MSE on test: 0.7616\n",
      "sklearn MSE on train: 0.5680\n",
      "\n",
      " sklearn MSE on test: 0.7896\n"
     ]
    },
    {
     "name": "stderr",
     "output_type": "stream",
     "text": [
      "Learning estimator number: 24/30; MSE error on train dataset: 0.430684876033; learning rate: 0.09916666666666667"
     ]
    }
   ],
   "source": [
    "\n",
    "losses_my_train = list()\n",
    "losses_sklearn_train = list()\n",
    "\n",
    "losses_my_test = list()\n",
    "losses_sklearn_test = list()\n",
    "\n",
    "print(X_train.shape, y_train.shape)\n",
    "trees_num = [x*10 for x in range(1,11, 1)]\n",
    "estimators_list = None\n",
    "current_predict = None\n",
    "#mse on train\n",
    "for i in trees_num:\n",
    "    algo_my = Gradient_Boosting(n_estimators=i, \n",
    "                              max_depth= 3, \n",
    "                              min_samples_split=4,\n",
    "                              learning_rate = 0.1, \n",
    "                              estimators_list =estimators_list, \n",
    "                              current_predict= current_predict)\n",
    "    estimators_list, current_predict = algo_my.fit(X_train, y_train.ravel())\n",
    "    \n",
    "    mse_train = MSE(y_train, algo_my.predict(X_train))\n",
    "    losses_my_train.append(mse_train)\n",
    "    print(\"my MSE on train: %.4f\" % mse_train)\n",
    "    \n",
    "    mse_test = MSE(y_test, algo_my.predict(X_test))\n",
    "    losses_my_test.append(mse_test)\n",
    "    print(\"my MSE on test: %.4f\" % mse_test)\n",
    "    \n",
    "    #sklearn\n",
    "\n",
    "    algo_sklearn = GradientBoostingRegressor(n_estimators=i,\n",
    "                                     criterion=\"mse\",\n",
    "                                     max_depth=3,\n",
    "                                     min_samples_split=4, \n",
    "                                     learning_rate = 0.1)\n",
    "    algo_sklearn.fit(X_train, y_train.ravel())\n",
    "    \n",
    "    mse_train = MSE(y_train, algo_sklearn.predict(X_train))\n",
    "    losses_sklearn_train.append(mse_train)\n",
    "    print(\"sklearn MSE on train: %.4f\" % mse_train)\n",
    "    \n",
    "    mse_test = MSE(y_test, algo_sklearn.predict(X_test))\n",
    "    losses_sklearn_test.append(mse_test)\n",
    "    print(\"sklearn MSE on test: %.4f\" % mse_test)\n",
    "    \n",
    "\n",
    "plot_graphs(trees_num, losses_my_train, losses_sklearn_train)\n",
    "plot_graphs(trees_num, losses_my_test, losses_sklearn_test)"
   ]
  },
  {
   "cell_type": "code",
   "execution_count": null,
   "metadata": {},
   "outputs": [],
   "source": []
  }
 ],
 "metadata": {
  "kernelspec": {
   "display_name": "Python 3",
   "language": "python",
   "name": "python3"
  },
  "language_info": {
   "codemirror_mode": {
    "name": "ipython",
    "version": 3
   },
   "file_extension": ".py",
   "mimetype": "text/x-python",
   "name": "python",
   "nbconvert_exporter": "python",
   "pygments_lexer": "ipython3",
   "version": "3.6.4"
  }
 },
 "nbformat": 4,
 "nbformat_minor": 2
}
